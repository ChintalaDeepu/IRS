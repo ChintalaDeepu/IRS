{
  "nbformat": 4,
  "nbformat_minor": 0,
  "metadata": {
    "colab": {
      "provenance": [],
      "authorship_tag": "ABX9TyOxlO9PpmfVjRg/BviADgra",
      "include_colab_link": true
    },
    "kernelspec": {
      "name": "python3",
      "display_name": "Python 3"
    },
    "language_info": {
      "name": "python"
    }
  },
  "cells": [
    {
      "cell_type": "markdown",
      "metadata": {
        "id": "view-in-github",
        "colab_type": "text"
      },
      "source": [
        "<a href=\"https://colab.research.google.com/github/ChintalaDeepu/IRS/blob/main/preprocessing%20techniques1.ipynb\" target=\"_parent\"><img src=\"https://colab.research.google.com/assets/colab-badge.svg\" alt=\"Open In Colab\"/></a>"
      ]
    },
    {
      "cell_type": "markdown",
      "source": [
        "Lowercasing text\n"
      ],
      "metadata": {
        "id": "unURNunqD02L"
      }
    },
    {
      "cell_type": "code",
      "source": [
        "def lowercase_text(text):\n",
        "   return text.lower()\n",
        "text = ' DEEPU,PUSHKARA AND AKSHITHA \\n HAVE JOINED IN SR UNIVERSITY.'\n",
        "print(lowercase_text(text))"
      ],
      "metadata": {
        "colab": {
          "base_uri": "https://localhost:8080/",
          "height": 0
        },
        "id": "pYJAEIL_D7p-",
        "outputId": "8e7b82cd-c154-48fc-9dba-7968065babe5"
      },
      "execution_count": 13,
      "outputs": [
        {
          "output_type": "stream",
          "name": "stdout",
          "text": [
            " deepu,pushkara and akshitha \n",
            " have joined in sr university.\n"
          ]
        }
      ]
    },
    {
      "cell_type": "markdown",
      "source": [
        "Removing Punctuations\n"
      ],
      "metadata": {
        "id": "yyMV4D2JFAv7"
      }
    },
    {
      "cell_type": "code",
      "source": [
        "import string\n",
        "PUNCT_TO_REMOVE = string.punctuation\n",
        "def remove_punctuation(text):\n",
        " return ' '.join(text.translate(str.maketrans('', '', PUNCT_TO_REMOVE)).split())\n",
        "text = \"I'm having a lot of punctuations!!.@@@@@ All special characters will be removed *&&&\" ;\n",
        "print(remove_punctuation(text))"
      ],
      "metadata": {
        "colab": {
          "base_uri": "https://localhost:8080/",
          "height": 0
        },
        "id": "yJMcMg0JFC3d",
        "outputId": "4dc694cf-fa47-4bc1-de31-0df765a4de4d"
      },
      "execution_count": 11,
      "outputs": [
        {
          "output_type": "stream",
          "name": "stdout",
          "text": [
            "Im having a lot of punctuations All special characters will be removed\n"
          ]
        }
      ]
    },
    {
      "cell_type": "markdown",
      "source": [
        " Eliminating stopwords"
      ],
      "metadata": {
        "id": "xFUOecvSFuuw"
      }
    },
    {
      "cell_type": "code",
      "source": [
        "import nltk\n",
        "nltk.download('stopwords')\n",
        "from nltk.corpus import stopwords\n",
        "stoplist = stopwords.words('english')\n",
        "text = '''\n",
        "Welcome to SR University\n",
        "'''\n",
        "print(\"\\nOriginal string:\")\n",
        "print(text)\n",
        "clean_word_list = [word for word in text.split() if word not in stoplist]\n",
        "print(\"\\nAfter removing stop words from the said text:\")\n",
        "print(clean_word_list)"
      ],
      "metadata": {
        "colab": {
          "base_uri": "https://localhost:8080/",
          "height": 0
        },
        "id": "EjsshHQvFyqm",
        "outputId": "8c4aecf2-204c-408e-f499-bd16ba4c2078"
      },
      "execution_count": 14,
      "outputs": [
        {
          "output_type": "stream",
          "name": "stdout",
          "text": [
            "\n",
            "Original string:\n",
            "\n",
            "Welcome to SR University\n",
            "\n",
            "\n",
            "After removing stop words from the said text:\n",
            "['Welcome', 'SR', 'University']\n"
          ]
        },
        {
          "output_type": "stream",
          "name": "stderr",
          "text": [
            "[nltk_data] Downloading package stopwords to /root/nltk_data...\n",
            "[nltk_data]   Package stopwords is already up-to-date!\n"
          ]
        }
      ]
    }
  ]
}